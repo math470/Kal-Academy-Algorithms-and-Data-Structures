{
 "cells": [
  {
   "cell_type": "markdown",
   "metadata": {},
   "source": [
    "# Kal Academy - Algorithms and Data Structures\n",
    "## _Hye Joo Han_"
   ]
  },
  {
   "cell_type": "markdown",
   "metadata": {},
   "source": [
    "## Array Problems"
   ]
  },
  {
   "cell_type": "markdown",
   "metadata": {},
   "source": [
    "__1) Find the element that appears once in a sorted array where all other elements appear twice one after another. Find that element in 0(logn) complexity.__\n",
    "\n",
    "Input:   arr[] = {1, 1, 3, 3, 4, 5, 5, 7, 7, 8, 8}\n",
    "\n",
    "Output:  4 "
   ]
  },
  {
   "cell_type": "markdown",
   "metadata": {},
   "source": [
    "__Answer:__ We can use the binary search (O(logN) complexity) since numbers are sorted. If the single number we are looking for is not in a range, the numbers appearing twice have even-odd index pair in the range. If the midpoint in the binary search has a even index, check if the following number is the same as the midpoint. If so, it means the single number hasn't appeared before the midpoint. In this case, select the right half to repeat the search process. If not, it means the single number appeared before the midpoint. If the previous number is not the same as the mid point, the midpoint is the single number. If it is the same as the midpoint, select the left half to repeat the search process.\n",
    "\n",
    "__Complexity:__ \n",
    "- Time: O(logn) from binary search \n",
    "- Space: O(1)"
   ]
  },
  {
   "cell_type": "code",
   "execution_count": 5,
   "metadata": {
    "collapsed": true
   },
   "outputs": [],
   "source": [
    "def find_solo(arr):\n",
    "    low, high = 0,len(arr)-1\n",
    "\n",
    "    while low<high:\n",
    "        mid = low +(high-low)//2 # avoid overflow from (low+high)//2\n",
    "        index_change = (-1)**(mid%2) # odd vs. even\n",
    "        \n",
    "        if arr[mid]==arr[mid+index_change]:\n",
    "            low = mid+1 \n",
    "        else:\n",
    "            if arr[mid]!=arr[mid-index_change]:\n",
    "                return arr[mid]\n",
    "            high =mid-1\n",
    "            \n",
    "    return arr[low] # low==high"
   ]
  },
  {
   "cell_type": "code",
   "execution_count": 3,
   "metadata": {},
   "outputs": [
    {
     "name": "stdout",
     "output_type": "stream",
     "text": [
      "4\n"
     ]
    }
   ],
   "source": [
    "arr1_1=[1, 1, 3, 3, 4, 5, 5, 7, 7, 8, 8]\n",
    "print(find_solo(arr1_1))"
   ]
  },
  {
   "cell_type": "code",
   "execution_count": 4,
   "metadata": {},
   "outputs": [
    {
     "name": "stdout",
     "output_type": "stream",
     "text": [
      "8\n"
     ]
    }
   ],
   "source": [
    "arr1_2=[1, 1, 3, 3, 4, 4, 5, 5, 7, 7, 8]\n",
    "print(find_solo(arr1_2))"
   ]
  },
  {
   "cell_type": "markdown",
   "metadata": {},
   "source": [
    "__2) A magic index in an array A[0…n-1] is defined to be an index such that A[i] = i. Given a sorted array of distinct integers, write a method to find a magic index if one exists, in an array A. FOLLOW UP: What if the values are not distinct?__"
   ]
  },
  {
   "cell_type": "markdown",
   "metadata": {},
   "source": [
    "__Answer:__ Since values are sorted and distinct, there can be one or one group of adjacent magic numbers that should be consecutive. I will assume this question is asking to find one magic index if one exists. We can use a modified binary search where we compare the midpoint with its own index. The first number in each search range should be less than or equal to its index and the last number in the range has to be bigger than or equal to its index number to have a magic index in the range\" does not hold anymore. its index number in order to have a magic index in the range.\n",
    "\n",
    "__Complexity:__ \n",
    "- Time: O(log) from binary search\n",
    "- Space: O(1)"
   ]
  },
  {
   "cell_type": "code",
   "execution_count": 18,
   "metadata": {
    "collapsed": true
   },
   "outputs": [],
   "source": [
    "def magic_index(nums):\n",
    "    low, high = 0, len(nums)-1\n",
    "    while (nums[low] <= low) and (nums[high]>=high):\n",
    "        mid = low+(high-low)//2\n",
    "        if nums[mid] == mid:\n",
    "            return mid\n",
    "        elif nums[mid] > mid:\n",
    "            high=mid-1\n",
    "        else: #nums[mid] < mid\n",
    "            low = mid+1\n",
    "    return -1 # No magic index"
   ]
  },
  {
   "cell_type": "code",
   "execution_count": 19,
   "metadata": {},
   "outputs": [
    {
     "data": {
      "text/plain": [
       "4"
      ]
     },
     "execution_count": 19,
     "metadata": {},
     "output_type": "execute_result"
    }
   ],
   "source": [
    "arr2_1 = [-5,-3,0,1,4,5,6,8,10,15]\n",
    "magic_index(arr2_1)"
   ]
  },
  {
   "cell_type": "code",
   "execution_count": 20,
   "metadata": {},
   "outputs": [
    {
     "data": {
      "text/plain": [
       "-1"
      ]
     },
     "execution_count": 20,
     "metadata": {},
     "output_type": "execute_result"
    }
   ],
   "source": [
    "arr2_2 = [-5,-3,0,1,8,10,15]\n",
    "magic_index(arr2_2)"
   ]
  },
  {
   "cell_type": "markdown",
   "metadata": {},
   "source": [
    "__FOLLOW UP: What if the values are not distinct?__\n",
    "\n",
    "Then the statement \"the first number in each search range should be less than or equal to its index and the last number in the range has to be bigger than or equal to its index number in order to have a magic index in the range\" does not hold anymore. Thus, the condition in the while loop should be less restrictive. Moreover, comparing the number on the midpoint with the midpoint index does not tell us which direction we should go in the binary search. Thus, we have to check every number and this takes a linear time O(n). "
   ]
  },
  {
   "cell_type": "code",
   "execution_count": 42,
   "metadata": {
    "collapsed": true
   },
   "outputs": [],
   "source": [
    "def magic_index_2(nums): #nums can have redundant numbers\n",
    "    for i in range(len(nums)):\n",
    "        if nums[i]==i:\n",
    "            return i\n",
    "    return -1 # no magic index"
   ]
  },
  {
   "cell_type": "code",
   "execution_count": 43,
   "metadata": {},
   "outputs": [
    {
     "data": {
      "text/plain": [
       "1"
      ]
     },
     "execution_count": 43,
     "metadata": {},
     "output_type": "execute_result"
    }
   ],
   "source": [
    "magic_index_2([-5,1,2,2])"
   ]
  },
  {
   "cell_type": "code",
   "execution_count": 45,
   "metadata": {},
   "outputs": [
    {
     "data": {
      "text/plain": [
       "7"
      ]
     },
     "execution_count": 45,
     "metadata": {},
     "output_type": "execute_result"
    }
   ],
   "source": [
    "magic_index_2([-5,-2,-1,2,6,7,7,7,10])"
   ]
  },
  {
   "cell_type": "markdown",
   "metadata": {},
   "source": [
    "__3) Given a sorted array of n integers that has been rotated an unknown number of times, write code to find an element in the array. You may assume that the array was originally sorted in increasing order.__"
   ]
  },
  {
   "cell_type": "markdown",
   "metadata": {},
   "source": [
    "__Answer:__ Even if a sorted array has been rorated, we can use the binary search to find an element. Since the array is rotated, we need a little more conditions to check to decide the next search range. I will assume there is no duplicate. I  made the alorithm work for the cases where the given array can contain only 0 or 1 number.\n",
    "\n",
    "__Complexity:__ \n",
    "- Time: O(log) from binary search\n",
    "- Space: O(1)"
   ]
  },
  {
   "cell_type": "code",
   "execution_count": 71,
   "metadata": {
    "collapsed": true
   },
   "outputs": [],
   "source": [
    "def rotated_array_search(nums, target):\n",
    " \n",
    "    low, high=0, len(nums)-1\n",
    "    while low < high:\n",
    "        mid = low +(high-low)//2\n",
    "        if nums[mid]==target:\n",
    "            return mid\n",
    "        if nums[high]==target:\n",
    "            return high\n",
    "        \n",
    "        if nums[low]<nums[mid]:\n",
    "            if (nums[low] <= target < nums[mid]):\n",
    "                high=mid#-1 \n",
    "            else:\n",
    "                low=mid+1\n",
    "        else: #nums[mid] < nums[high] should be true in a rorated array\n",
    "            if nums[high] >= target > nums[mid]:\n",
    "                low = mid+1\n",
    "            else:\n",
    "                high=mid#-1\n",
    "    if len(nums)==1 and nums[0]==target: \n",
    "        return 0 \n",
    "    return -1 # No match"
   ]
  },
  {
   "cell_type": "code",
   "execution_count": 72,
   "metadata": {},
   "outputs": [
    {
     "data": {
      "text/plain": [
       "-1"
      ]
     },
     "execution_count": 72,
     "metadata": {},
     "output_type": "execute_result"
    }
   ],
   "source": [
    "rotated_array_search([6,7,10,0,1,2,3,4,5], 8)"
   ]
  },
  {
   "cell_type": "code",
   "execution_count": 73,
   "metadata": {
    "scrolled": true
   },
   "outputs": [
    {
     "data": {
      "text/plain": [
       "[0, 1, 2, 3, 4, 5, 6, 7, 8]"
      ]
     },
     "execution_count": 73,
     "metadata": {},
     "output_type": "execute_result"
    }
   ],
   "source": [
    "# Use all numbers in the list as a searching number\n",
    "arr3_1=[6,7,10,0,1,2,3,4,5]\n",
    "[rotated_array_search(arr3_1, num) for num in arr3_1] "
   ]
  },
  {
   "cell_type": "code",
   "execution_count": 74,
   "metadata": {
    "scrolled": true
   },
   "outputs": [
    {
     "data": {
      "text/plain": [
       "-1"
      ]
     },
     "execution_count": 74,
     "metadata": {},
     "output_type": "execute_result"
    }
   ],
   "source": [
    "rotated_array_search([1], 0)"
   ]
  },
  {
   "cell_type": "code",
   "execution_count": 75,
   "metadata": {},
   "outputs": [
    {
     "data": {
      "text/plain": [
       "0"
      ]
     },
     "execution_count": 75,
     "metadata": {},
     "output_type": "execute_result"
    }
   ],
   "source": [
    "rotated_array_search([1], 1)"
   ]
  },
  {
   "cell_type": "code",
   "execution_count": 76,
   "metadata": {},
   "outputs": [
    {
     "data": {
      "text/plain": [
       "-1"
      ]
     },
     "execution_count": 76,
     "metadata": {},
     "output_type": "execute_result"
    }
   ],
   "source": [
    "rotated_array_search([1,3], 0)"
   ]
  },
  {
   "cell_type": "code",
   "execution_count": 77,
   "metadata": {},
   "outputs": [
    {
     "data": {
      "text/plain": [
       "-1"
      ]
     },
     "execution_count": 77,
     "metadata": {},
     "output_type": "execute_result"
    }
   ],
   "source": [
    "rotated_array_search([], 0)"
   ]
  },
  {
   "cell_type": "markdown",
   "metadata": {},
   "source": [
    "__4) Given an array that contains numbers from 1 to n-1 and exactly 1 duplicate, find that duplicate.__"
   ]
  },
  {
   "cell_type": "markdown",
   "metadata": {},
   "source": [
    "__Answer:__ Since numbers in a given array (nums) are from 1 to n-1, they can have their own positions in the array. Use the last nubmer to start placing each number i in the ith position (i.e. nums[i-1]). The number that was originall in the ith position is the next number to be placed in its own position. If a number i to be placed in its position nums[i-1] is already in the position, the number is the duplicate we are looking for.   \n",
    "\n",
    "__Complexity:__ \n",
    "- Time: O(n) e.g.[1,1,2,3,4,5,6]\n",
    "- Space: O(1)"
   ]
  },
  {
   "cell_type": "code",
   "execution_count": 78,
   "metadata": {
    "collapsed": true
   },
   "outputs": [],
   "source": [
    "# make nums [1,2,3,4,...n-1,?] while searching\n",
    "\n",
    "def find_duplicate(nums):\n",
    "    temp1 = temp2 = nums[-1]\n",
    "    while True:\n",
    "        if temp1==nums[temp1-1]:\n",
    "            return temp1\n",
    "        temp2 = nums[temp1-1]\n",
    "        nums[temp1-1] = temp1 \n",
    "        temp1 = temp2   "
   ]
  },
  {
   "cell_type": "code",
   "execution_count": 79,
   "metadata": {
    "scrolled": true
   },
   "outputs": [
    {
     "data": {
      "text/plain": [
       "9"
      ]
     },
     "execution_count": 79,
     "metadata": {},
     "output_type": "execute_result"
    }
   ],
   "source": [
    "find_duplicate([1,4,3,10,5,9,6,7,2,8,9])"
   ]
  },
  {
   "cell_type": "markdown",
   "metadata": {},
   "source": [
    "Here is another solution. This soluation does not send each number i to its own position nums[i-1]. Instead, the number in nums[i-1] gets multiplied by -1 if the number i appears in the loop. If the curret number in the loop is k and nums[k-1] has been already changed into negative, it means k is the duplicate. The time and space complexity are the same as before (time O(n), space O(1))."
   ]
  },
  {
   "cell_type": "code",
   "execution_count": 83,
   "metadata": {
    "collapsed": true
   },
   "outputs": [],
   "source": [
    "# Another solution\n",
    "\n",
    "def find_duplicate(nums):\n",
    "    for i in range(len(nums)):\n",
    "        orig_num = abs(nums[i])\n",
    "        if nums[orig_num-1] > 0: #not visited\n",
    "            nums[orig_num-1]*=-1\n",
    "        else: #nums[orig_num-1]<0 # already visited\n",
    "            return abs(nums[i])"
   ]
  },
  {
   "cell_type": "code",
   "execution_count": 84,
   "metadata": {},
   "outputs": [
    {
     "data": {
      "text/plain": [
       "9"
      ]
     },
     "execution_count": 84,
     "metadata": {},
     "output_type": "execute_result"
    }
   ],
   "source": [
    "find_duplicate([1,4,3,10,5,9,6,7,2,8,9])"
   ]
  },
  {
   "cell_type": "markdown",
   "metadata": {},
   "source": [
    "__5) Search an element in an array where difference between adjacent elements is 1.__\n",
    "\n",
    "For example: arr[] = {8, 7, 6, 7, 6, 5, 4, 3, 2, 3, 4, 3}\n",
    "\n",
    "Search for 3 and Output: Found at index 7"
   ]
  },
  {
   "cell_type": "markdown",
   "metadata": {},
   "source": [
    "__Answer:__ Since difference between adjacent elements is always 1, we can jump to the next possible position for the element we are looking for. For example, if nums[i] is k and we are searching for k+3, the closest position where k+3 can be nums[i+3]. Thus, we can skip to the next position which is the current position plus the gap between the current number and target number. The worst case makes you check every the other number, so the time complexity is O(n/2).\n",
    "\n",
    "__Complexity:__ \n",
    "- Time: O(n/2) e.g., nums = [4,5,4,5,4,5,4,3], target= 3\n",
    "- Space: O(1)"
   ]
  },
  {
   "cell_type": "code",
   "execution_count": 85,
   "metadata": {
    "collapsed": true
   },
   "outputs": [],
   "source": [
    "def find_adjacent_array(nums,target):\n",
    "    curr = 0\n",
    "    while curr <len(nums):\n",
    "        diff = abs(nums[curr] - target)\n",
    "        if diff==0:\n",
    "            return curr\n",
    "        curr += diff\n",
    "    return -1 # if no such a number"
   ]
  },
  {
   "cell_type": "code",
   "execution_count": 88,
   "metadata": {},
   "outputs": [
    {
     "data": {
      "text/plain": [
       "[0, 1, 2, 5, 6, 7, 8]"
      ]
     },
     "execution_count": 88,
     "metadata": {},
     "output_type": "execute_result"
    }
   ],
   "source": [
    "# I will test several numbers in test_5\n",
    "arr_5 = [8, 7, 6, 7, 6, 5, 4, 3, 2, 3, 4, 3]\n",
    "test_5=[8,7,6,5,4,3,2]\n",
    "[find_adjacent_array(arr_5,num) for num in test_5]"
   ]
  },
  {
   "cell_type": "code",
   "execution_count": 87,
   "metadata": {},
   "outputs": [
    {
     "data": {
      "text/plain": [
       "-1"
      ]
     },
     "execution_count": 87,
     "metadata": {},
     "output_type": "execute_result"
    }
   ],
   "source": [
    "find_adjacent_array([],3)"
   ]
  },
  {
   "cell_type": "markdown",
   "metadata": {},
   "source": [
    "__6) Given an array of numbers, split the array into two where one array contains the sum of n-1 numbers and the other array with all the n-1 elements.__"
   ]
  },
  {
   "cell_type": "markdown",
   "metadata": {},
   "source": [
    "__Answer:__ We need some assumptions to solve this question. I will first assume a given array always contains the sum of the other n-1 numbers and then assume the numbers in a given array are integers and they can be negative. \n",
    "\n",
    "To return two arrays, one with total and the other with n-1 numbers, we first need to find the total using sum() (O(n) complexity), and get its index using list.index() (O(n) complexity), and finally remove the total from the array using list.pop(index). The final pop() step also requires O(n) complexity since elements need to move to fill the removed element. \n",
    "\n",
    "__Complexity:__ \n",
    "- Time: O(n)\n",
    "- Space: O(1)"
   ]
  },
  {
   "cell_type": "code",
   "execution_count": 93,
   "metadata": {
    "collapsed": true
   },
   "outputs": [],
   "source": [
    "def split_array(nums):\n",
    "    total = sum(nums)//2 #sum of n numbers are 2*sum\n",
    "    sum_idx = nums.index(total) \n",
    "    nums.pop(sum_idx) \n",
    "    return [total], nums"
   ]
  },
  {
   "cell_type": "code",
   "execution_count": 94,
   "metadata": {},
   "outputs": [
    {
     "data": {
      "text/plain": [
       "([15], [3, 2, 4, 1, 5])"
      ]
     },
     "execution_count": 94,
     "metadata": {},
     "output_type": "execute_result"
    }
   ],
   "source": [
    "arr_6_1 = [3,2,4,15,1,5]\n",
    "split_array(arr_6_1)"
   ]
  },
  {
   "cell_type": "code",
   "execution_count": 95,
   "metadata": {},
   "outputs": [
    {
     "data": {
      "text/plain": [
       "([-5], [-3, -2, -4, -1, 5])"
      ]
     },
     "execution_count": 95,
     "metadata": {},
     "output_type": "execute_result"
    }
   ],
   "source": [
    "arr_6_2 = [-3,-2,-4,-5,-1,5]\n",
    "split_array(arr_6_2)"
   ]
  }
 ],
 "metadata": {
  "anaconda-cloud": {},
  "kernelspec": {
   "display_name": "Python [default]",
   "language": "python",
   "name": "python3"
  },
  "language_info": {
   "codemirror_mode": {
    "name": "ipython",
    "version": 3
   },
   "file_extension": ".py",
   "mimetype": "text/x-python",
   "name": "python",
   "nbconvert_exporter": "python",
   "pygments_lexer": "ipython3",
   "version": "3.5.2"
  }
 },
 "nbformat": 4,
 "nbformat_minor": 2
}
